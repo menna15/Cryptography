{
 "cells": [
  {
   "cell_type": "code",
   "execution_count": 1,
   "metadata": {},
   "outputs": [],
   "source": [
    "import utils as ut\n",
    "import receiverClass as rc\n",
    "import senderClass as sc\n",
    "import time\n",
    "import matplotlib.pyplot as plt"
   ]
  },
  {
   "cell_type": "code",
   "execution_count": 23,
   "metadata": {},
   "outputs": [],
   "source": [
    "bob = rc.receiver()\n",
    "alice = sc.sender()\n",
    "\n",
    "n_list = []\n",
    "time_list = []\n",
    "p_prev = 0\n",
    "q_prev = 0\n",
    "\n",
    "for i in range(40, 100):\n",
    "    p, q = ut.generate_primes(i)\n",
    "    while(p*q < p_prev*q_prev):\n",
    "        p, q = ut.generate_primes(i)\n",
    "    bob.p, bob.q = p, q\n",
    "    p_prev, q_prev = p, q\n",
    "\n",
    "    # set value of e and n for both sender and receiver \n",
    "    bob.e = ut.generate_e(bob.p,bob.q)\n",
    "    bob.n = bob.p * bob.q\n",
    "\n",
    "    alice.e = bob.e\n",
    "    alice.n = bob.n\n",
    "\n",
    "    n_list.append(bob.n)\n",
    "    M = \"Nada\"\n",
    "    start = time.time_ns()\n",
    "    cipher_text= alice.encrypt(M)  \n",
    "    time_list.append(time.time_ns() - start)"
   ]
  },
  {
   "cell_type": "code",
   "execution_count": 24,
   "metadata": {},
   "outputs": [
    {
     "data": {
      "image/png": "[encoded data removed]",
      "text/plain": [
       "<Figure size 576x504 with 1 Axes>"
      ]
     },
     "metadata": {
      "needs_background": "light"
     },
     "output_type": "display_data"
    }
   ],
   "source": [
    "#ploting\n",
    "plt.figure(figsize=(8,7))\n",
    "plt.plot(n_list, time_list)\n",
    "\n",
    "plt.xlabel('x - public key \\'n\\'')\n",
    "plt.ylabel('y - time to encrypt')\n",
    "plt.title('efficiency')\n",
    "\n",
    "plt.show()"
   ]
  },
  {
   "cell_type": "code",
   "execution_count": null,
   "metadata": {},
   "outputs": [],
   "source": []
  }
 ],
 "metadata": {
  "interpreter": {
   "hash": "16eaf64d804c64982ecaa3d552fe6459f2afbedbd70923f4efe6f78d1fdb2db7"
  },
  "kernelspec": {
   "display_name": "Python 3.7.4 ('base')",
   "language": "python",
   "name": "python3"
  },
  "language_info": {
   "codemirror_mode": {
    "name": "ipython",
    "version": 3
   },
   "file_extension": ".py",
   "mimetype": "text/x-python",
   "name": "python",
   "nbconvert_exporter": "python",
   "pygments_lexer": "ipython3",
   "version": "3.7.4"
  },
  "orig_nbformat": 4
 },
 "nbformat": 4,
 "nbformat_minor": 2
}
