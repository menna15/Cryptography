{
 "cells": [
  {
   "cell_type": "code",
   "execution_count": 1,
   "metadata": {},
   "outputs": [],
   "source": [
    "import utils as ut\n",
    "import receiverClass as rc\n",
    "import senderClass as sc\n",
    "import time\n",
    "import matplotlib.pyplot as plt"
   ]
  },
  {
   "cell_type": "code",
   "execution_count": 2,
   "metadata": {},
   "outputs": [
    {
     "name": "stdout",
     "output_type": "stream",
     "text": [
      "24\n"
     ]
    }
   ],
   "source": [
    "bob = rc.receiver()\n",
    "alice = sc.sender()\n",
    "\n",
    "n_list = []\n",
    "time_list = []\n",
    "\n",
    "\n",
    "p_q = open(\"test_cases.txt\", \"r\")\n",
    "lines = p_q.read().splitlines()\n",
    "p_q.close()\n",
    "\n",
    "M = \"Menna\"\n",
    "i = 0\n",
    "print(len(lines))\n",
    "while (i < len(lines)):\n",
    "    bob.p, bob.q = int(lines[i]), int(lines[i+1])\n",
    "    i +=3\n",
    "    # set value of e and n for both sender and receiver \n",
    "    bob.e = ut.generate_e(bob.p,bob.q)\n",
    "    bob.n = bob.p * bob.q\n",
    "\n",
    "    alice.e = bob.e\n",
    "    alice.n = bob.n\n",
    "\n",
    "    n_list.append(int(bin(bob.n).count(\"1\")))\n",
    "    start = time.time()\n",
    "    cipher_text= alice.encrypt(M)  \n",
    "    end = time.time()\n",
    "    time_list.append(end - start)"
   ]
  },
  {
   "cell_type": "code",
   "execution_count": 3,
   "metadata": {},
   "outputs": [
    {
     "data": {
      "image/png": "[encoded data removed]",
      "text/plain": [
       "<Figure size 432x288 with 1 Axes>"
      ]
     },
     "metadata": {
      "needs_background": "light"
     },
     "output_type": "display_data"
    }
   ],
   "source": [
    "#ploting\n",
    "plt.plot(n_list, time_list)\n",
    "\n",
    "plt.xlabel('x - public key \\'n\\'')\n",
    "plt.ylabel('y - time to encrypt')\n",
    "plt.title('efficiency')\n",
    "\n",
    "plt.show()"
   ]
  },
  {
   "cell_type": "code",
   "execution_count": null,
   "metadata": {},
   "outputs": [],
   "source": []
  }
 ],
 "metadata": {
  "interpreter": {
   "hash": "2d8c476e6afc49b3a55a8d87b705d075466c188e656b66361658de78764e7dc7"
  },
  "kernelspec": {
   "display_name": "Python 3.7.4 64-bit",
   "language": "python",
   "name": "python3"
  },
  "language_info": {
   "codemirror_mode": {
    "name": "ipython",
    "version": 3
   },
   "file_extension": ".py",
   "mimetype": "text/x-python",
   "name": "python",
   "nbconvert_exporter": "python",
   "pygments_lexer": "ipython3",
   "version": "3.7.4"
  },
  "orig_nbformat": 4
 },
 "nbformat": 4,
 "nbformat_minor": 2
}
