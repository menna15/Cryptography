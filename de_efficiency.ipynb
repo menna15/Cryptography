{
 "cells": [
  {
   "cell_type": "code",
   "execution_count": null,
   "metadata": {},
   "outputs": [],
   "source": [
    "import utils as ut\n",
    "import attacks as at\n",
    "import time\n",
    "import matplotlib.pyplot as plt"
   ]
  },
  {
   "cell_type": "code",
   "execution_count": null,
   "metadata": {},
   "outputs": [],
   "source": [
    "ciphers_file = open(\"ciphers.txt\", \"r\")\n",
    "ciphers = ciphers_file.read().splitlines()\n",
    "ciphers_file.close()\n",
    "\n",
    "time_math = []\n",
    "time_CCA = []\n",
    "for cipher in ciphers:\n",
    "    start = time.time_ns()\n",
    "    deciphered_text = at.mathematical_attack(ut.int2str(cipher),e,n)\n",
    "    time_math.append(time.time_ns() - start)\n",
    "\n",
    "    start = time.time_ns()\n",
    "    deciphered_text = at.CCA(cipher,e,n)\n",
    "    time_CCA.append(time.time_ns() - start)\n"
   ]
  },
  {
   "cell_type": "code",
   "execution_count": null,
   "metadata": {},
   "outputs": [],
   "source": [
    "#ploting\n",
    "plt.figure(figsize=(8,7))\n",
    "plt.plot(n_list, time_math, labal = 'mathematical attack time')\n",
    "plt.plot(n_list, time_CCA, labal = 'Chosen Cipher attack time')\n",
    "\n",
    "plt.xlabel('x - public key \\'n\\'')\n",
    "plt.ylabel('y - time to decrypt')\n",
    "plt.title('decrypt efficiency')\n",
    "\n",
    "plt.legend()\n",
    "plt.show()"
   ]
  }
 ],
 "metadata": {
  "language_info": {
   "name": "python"
  },
  "orig_nbformat": 4
 },
 "nbformat": 4,
 "nbformat_minor": 2
}
