{
 "cells": [
  {
   "cell_type": "code",
   "execution_count": 1,
   "metadata": {},
   "outputs": [],
   "source": [
    "import utils as ut\n",
    "import time\n",
    "import receiverClass as rc\n",
    "import senderClass as sc\n",
    "import math\n",
    "import matplotlib.pyplot as plt"
   ]
  },
  {
   "cell_type": "code",
   "execution_count": 4,
   "metadata": {},
   "outputs": [],
   "source": [
    "\n",
    "bob = rc.receiver()\n",
    "\n",
    "alice = sc.sender()\n",
    "# ---------------------------------------\n",
    "#     chosen cipher attack\n",
    "#----------------------------------------\n",
    "def CCA(C,e,n):\n",
    "    r = ut.generate_r(n) \n",
    "    C_dash= C * ut.PowMod(r,e,n)\n",
    "    Y = ut.str2int(bob.decrypt(ut.int2str(C_dash)))\n",
    "    M = ut.PowMod(Y * (ut.InvertModulo(r,n)),1,n)\n",
    "    # print(ut.int2str(M))\n",
    "    return(ut.int2str(M))\n",
    "\n",
    "# ---------------------------------------\n",
    "#     mathematical attack\n",
    "#----------------------------------------\n",
    "def mathematical_attack(cipher, e, n):\n",
    "    deciphered = ''\n",
    "    for p in range(3, int(math.sqrt(n)+1)):\n",
    "        if(n % p == 0):\n",
    "            # print(p)\n",
    "            bob.q = n//p\n",
    "            bob.e = e\n",
    "            # print(bob.e)\n",
    "            bob.p = p\n",
    "            bob.n = n\n",
    "            deciphered = bob.decrypt(cipher)\n",
    "            # print(deciphered)\n",
    "    return deciphered\n"
   ]
  },
  {
   "cell_type": "code",
   "execution_count": 6,
   "metadata": {},
   "outputs": [
    {
     "name": "stdout",
     "output_type": "stream",
     "text": [
      "508200\n",
      "0\n",
      "996200\n",
      "997300\n",
      "0\n",
      "185896800\n",
      "0\n",
      "6655550800\n",
      "0\n",
      "228428286700\n"
     ]
    }
   ],
   "source": [
    "time_math = []\n",
    "time_CCA = []\n",
    "n_list = []\n",
    "\n",
    "i = 0\n",
    "for i in range(10, 35 , 5):\n",
    "    p, q = ut.generate_prime(1<<(i - 1), 1<<i)\n",
    "    # p , q = ut.generate_primes_bits(i)\n",
    "    bob.p, bob.q = p, q\n",
    "\n",
    "    # set value of e and n for both sender and receiver \n",
    "    bob.e = ut.generate_e(bob.p,bob.q)\n",
    "    bob.n = bob.p * bob.q\n",
    "\n",
    "    alice.e = bob.e\n",
    "    alice.n = bob.n\n",
    "\n",
    "    n_list.append(bob.n)\n",
    "    M = \"no\"\n",
    "    cipher_text= alice.encrypt(M)\n",
    "\n",
    "    start = time.time_ns()\n",
    "    deciphered_text = CCA(ut.str2int(cipher_text),bob.e,bob.n)\n",
    "    time_CCA.append(time.time_ns() - start)\n",
    "    print(time.time_ns() - start)\n",
    "\n",
    "    start = time.time_ns()\n",
    "    deciphered_text = mathematical_attack(cipher_text,bob.e,bob.n)\n",
    "    time_math.append(time.time_ns() - start)\n",
    "    print(time.time_ns() - start)\n"
   ]
  },
  {
   "cell_type": "code",
   "execution_count": 7,
   "metadata": {},
   "outputs": [
    {
     "data": {
      "image/png": "[encoded data removed]",
      "text/plain": [
       "<Figure size 432x288 with 1 Axes>"
      ]
     },
     "metadata": {
      "needs_background": "light"
     },
     "output_type": "display_data"
    }
   ],
   "source": [
    "#ploting\n",
    "plt.plot(n_list, time_math, label = 'mathematical attack time')\n",
    "plt.plot(n_list, time_CCA, label = 'Chosen Cipher attack time')\n",
    "\n",
    "plt.xlabel('x - public key \\'n\\'')\n",
    "plt.ylabel('y - time to decrypt')\n",
    "plt.title('decrypt efficiency')\n",
    "\n",
    "plt.legend([\"mathematical attack time\", \"Chosen Cipher attack time\"])\n",
    "plt.show()"
   ]
  }
 ],
 "metadata": {
  "interpreter": {
   "hash": "16eaf64d804c64982ecaa3d552fe6459f2afbedbd70923f4efe6f78d1fdb2db7"
  },
  "kernelspec": {
   "display_name": "Python 3.7.4 ('base')",
   "language": "python",
   "name": "python3"
  },
  "language_info": {
   "codemirror_mode": {
    "name": "ipython",
    "version": 3
   },
   "file_extension": ".py",
   "mimetype": "text/x-python",
   "name": "python",
   "nbconvert_exporter": "python",
   "pygments_lexer": "ipython3",
   "version": "3.7.4"
  },
  "orig_nbformat": 4
 },
 "nbformat": 4,
 "nbformat_minor": 2
}
